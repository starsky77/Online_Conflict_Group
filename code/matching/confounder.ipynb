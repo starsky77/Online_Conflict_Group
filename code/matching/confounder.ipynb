{
  "nbformat": 4,
  "nbformat_minor": 0,
  "metadata": {
    "colab": {
      "provenance": []
    },
    "kernelspec": {
      "name": "python3",
      "display_name": "Python 3"
    },
    "language_info": {
      "name": "python"
    }
  },
  "cells": [
    {
      "cell_type": "code",
      "execution_count": 1,
      "metadata": {
        "colab": {
          "base_uri": "https://localhost:8080/"
        },
        "id": "1dgJZKlhFFcD",
        "outputId": "68cd9280-5c2f-4fa9-db3c-17a189be0d95"
      },
      "outputs": [
        {
          "output_type": "stream",
          "name": "stdout",
          "text": [
            "Mounted at /content/drive\n"
          ]
        }
      ],
      "source": [
        "from google.colab import drive\n",
        "drive.mount('/content/drive')"
      ]
    },
    {
      "cell_type": "code",
      "source": [
        "import pandas as pd\n",
        "import urllib\n",
        "from sklearn.pipeline import Pipeline\n",
        "from sklearn.feature_extraction.text import CountVectorizer\n",
        "from sklearn.feature_extraction.text import TfidfTransformer\n",
        "from sklearn.linear_model import LogisticRegression\n",
        "from sklearn.metrics import roc_auc_score\n",
        "import os"
      ],
      "metadata": {
        "id": "h6RjYwplFMLG"
      },
      "execution_count": 2,
      "outputs": []
    },
    {
      "cell_type": "code",
      "source": [
        "df = pd.read_csv('/content/drive/MyDrive/ExMachina/thread_labeled_2001_to_2015/pages_with_at_least_two_threads_2014_2015.tsv', delimiter='\\t')\n",
        "df_2015 = pd.read_csv('/content/drive/MyDrive/ExMachina/comments_article_2015/comments_article_2015_with_predictions.tsv', delimiter='\\t')\n",
        "df_2014 = pd.read_csv('/content/drive/MyDrive/ExMachina/comments_article_2014/comments_article_2014_with_predictions.tsv', delimiter='\\t')\n",
        "df_2013 = pd.read_csv('/content/drive/MyDrive/ExMachina/comments_article_2013/comments_article_2013_with_predictions.tsv', delimiter='\\t')\n",
        "df_2014_2015 = pd.concat([df_2015, df_2014], ignore_index=True)\n",
        "df_2013_2014_2015 = pd.concat([df_2013, df_2014_2015], ignore_index=True)"
      ],
      "metadata": {
        "id": "MmNaCChZFRrD"
      },
      "execution_count": 4,
      "outputs": []
    },
    {
      "cell_type": "code",
      "source": [
        "df_2013_2014_2015['timestamp'] = pd.to_datetime(df_2013_2014_2015['timestamp'])\n",
        "df_2013_2014_2015.sort_values(by=['user_id', 'timestamp'], inplace=True)\n",
        "df_2013_2014_2015['word_count'] = df_2013_2014_2015['comment'].apply(lambda x: len(x.split()))\n",
        "df_2013_2014_2015['cumulative_word_count_past_month'] = 0"
      ],
      "metadata": {
        "id": "hKLh-UqaFmdw"
      },
      "execution_count": 5,
      "outputs": []
    },
    {
      "cell_type": "code",
      "source": [
        "for user_id in df['user_id'].unique():\n",
        "    user_comments = df_2013_2014_2015[df_2013_2014_2015['user_id'] == user_id]\n",
        "    rolling_word_counts = []\n",
        "\n",
        "    for index, row in user_comments.iterrows():\n",
        "        one_year_ago = row['timestamp'] - pd.DateOffset(month=1)\n",
        "        rolling_word_counts = [(time, count) for time, count in rolling_word_counts if time >= one_year_ago]\n",
        "        df_2013_2014_2015.at[index, 'cumulative_word_count_past_month'] = sum(count for time, count in rolling_word_counts)\n",
        "        rolling_word_counts.append((row['timestamp'], row['word_count']))"
      ],
      "metadata": {
        "id": "4yl8-Vs9Fu-o"
      },
      "execution_count": 6,
      "outputs": []
    },
    {
      "cell_type": "code",
      "source": [
        "df_new = df.merge(df_2013_2014_2015[['rev_id', 'cumulative_word_count_past_month']], on='rev_id', how='left')"
      ],
      "metadata": {
        "id": "afm8Qc0iGEmm"
      },
      "execution_count": 7,
      "outputs": []
    },
    {
      "cell_type": "code",
      "source": [
        "df_new.to_csv('/content/drive/MyDrive/ExMachina/cumulative_word_count_past_month.tsv', sep='\\t', index=False)"
      ],
      "metadata": {
        "id": "wG4orUd7GJOT"
      },
      "execution_count": null,
      "outputs": []
    }
  ]
}